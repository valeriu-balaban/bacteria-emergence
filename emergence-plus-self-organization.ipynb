{
 "cells": [
  {
   "cell_type": "code",
   "execution_count": 1,
   "metadata": {},
   "outputs": [],
   "source": [
    "import os\n",
    "import json\n",
    "import itertools\n",
    "import skimage.io\n",
    "import skimage.morphology\n",
    "import matplotlib.colors\n",
    "import matplotlib.animation\n",
    "\n",
    "import numpy as np\n",
    "import pandas as pd\n",
    "import seaborn as sns\n",
    "import skimage as ski\n",
    "import matplotlib.pyplot as plt\n",
    "\n",
    "import fractaltools\n",
    "\n",
    "import scipy as sp\n",
    "import scipy.optimize as op\n",
    "\n",
    "from decimal import *\n",
    "import collections\n",
    "\n",
    "#from matplotlib2tikz import save as tikz_save\n",
    "\n",
    "sns.set_context(\"paper\")\n",
    "sns.set_style(\"white\")\n",
    "\n",
    "%matplotlib notebook"
   ]
  },
  {
   "cell_type": "code",
   "execution_count": 2,
   "metadata": {},
   "outputs": [],
   "source": [
    "def entropy(probabilities, order = 1):\n",
    "    # Works for Decimal arrays\n",
    "    \n",
    "    if order in [0, 1]:\n",
    "        probabilities = probabilities[np.nonzero(probabilities)]\n",
    "    \n",
    "    if order == 1:\n",
    "        return sum([p * p.ln() for p in probabilities])\n",
    "    \n",
    "    elif order == 0:\n",
    "        return (probabilities ** order).sum().ln() / Decimal(int(order) - 1)\n",
    "    \n",
    "    else:\n",
    "        return (probabilities ** order).sum().ln() / Decimal(int(order) - 1)\n",
    "        \n",
    "\n",
    "        \n",
    "def spectrum(points, powers, scales):\n",
    "    \n",
    "    if not isinstance(powers, np.ndarray):\n",
    "        powers = np.array(powers)\n",
    "        \n",
    "        \n",
    "    # order and remove offset\n",
    "    points.sort()\n",
    "    points = points - points[0]\n",
    "\n",
    "    result = []\n",
    "    for scale in scales:\n",
    "        counts = collections.Counter(np.floor(points / scale)).values()\n",
    "        # Convert to decimal\n",
    "        counts = np.array(list(map(Decimal, counts)), dtype=np.dtype(Decimal))\n",
    "        result.append(counts / counts.sum())\n",
    "\n",
    "    slopes = []\n",
    "    x = np.log(scales)\n",
    "\n",
    "    for q in powers:\n",
    "        y = [entropy(r, q) for r in result]\n",
    "            \n",
    "        A = np.vstack([x, np.ones(x.shape)]).T\n",
    "        \n",
    "        # TODO: add more info about the fit\n",
    "        fit = np.linalg.lstsq(A,  np.array(y, dtype=np.float), rcond=-1)\n",
    "        slopes.append(fit[0][0])\n",
    "\n",
    "    # Compute the spectrum\n",
    "    dq = np.array(slopes) \n",
    "    a  = np.gradient((powers - 1) * slopes, edge_order=2)\n",
    "    f  = a * powers - (powers - 1) * slopes\n",
    "\n",
    "    return a, f, dq"
   ]
  },
  {
   "cell_type": "code",
   "execution_count": 4,
   "metadata": {},
   "outputs": [],
   "source": [
    "def image_spectrum(imagefilename, idx):\n",
    "    region   = 3\n",
    "    threshold= 7.0 / 255\n",
    "    \n",
    "    img      = ski.img_as_float(ski.io.imread(imagefilename.format(idx)))\n",
    "    for k in range(1, 3):\n",
    "        img += ski.img_as_float(ski.io.imread(imagefilename.format(idx + k)))\n",
    "        \n",
    "    img      = img / 3\n",
    "    square   = ski.morphology.square(region * 2 + 1)\n",
    "    \n",
    "    img_bw   = ski.morphology.h_minima(img, threshold, square)\n",
    "    \n",
    "    img_reg  = ski.measure.label(img_bw, connectivity=2)\n",
    "    reg_prop = ski.measure.regionprops(img_reg)\n",
    "\n",
    "    centroids   = [r.centroid for r in reg_prop]\n",
    "    incenter    = lambda x: np.sum((np.array(x) - 210) ** 2) < 38000\n",
    "    centroids   = list(filter(incenter, centroids))\n",
    "    \n",
    "    x, y       = zip(*centroids)\n",
    "        \n",
    "    points     = fractaltools.cart2pol(centroids, (205, 205))\n",
    "    rho, theta = zip(*points)\n",
    "    \n",
    "    powers     = list(range(-10, 11))\n",
    "    scales     = np.pi / 2 ** np.array(range(5))\n",
    "    \n",
    "    a, f, dq   = spectrum(np.array(theta), powers, scales)\n",
    "    a, f       = fractaltools.spectrum(np.array(theta), powers, scales)\n",
    "    \n",
    "    return a, f, dq"
   ]
  },
  {
   "cell_type": "code",
   "execution_count": 5,
   "metadata": {},
   "outputs": [],
   "source": [
    "EXPERIMENT = [  \n",
    "    \"processed-data/plate-1-{0:03d}.png\",\n",
    "    \"processed-data/plate-2-{0:03d}.png\",\n",
    "    \"processed-data/plate-3-{0:03d}.png\",\n",
    "    \"processed-data/plate-4-{0:03d}.png\"]"
   ]
  },
  {
   "cell_type": "code",
   "execution_count": 6,
   "metadata": {},
   "outputs": [
    {
     "name": "stdout",
     "output_type": "stream",
     "text": [
      "Precessing experiment 0 frame 100\n",
      "Precessing experiment 0 frame 110\n",
      "Precessing experiment 0 frame 120\n",
      "Precessing experiment 0 frame 130\n",
      "Precessing experiment 0 frame 140\n",
      "Precessing experiment 0 frame 150\n",
      "Precessing experiment 1 frame 120\n",
      "Precessing experiment 1 frame 130\n",
      "Precessing experiment 1 frame 140\n",
      "Precessing experiment 1 frame 150\n",
      "Precessing experiment 1 frame 160\n",
      "Precessing experiment 1 frame 170\n",
      "Precessing experiment 2 frame 110\n",
      "Precessing experiment 2 frame 120\n",
      "Precessing experiment 2 frame 130\n",
      "Precessing experiment 2 frame 140\n",
      "Precessing experiment 2 frame 150\n",
      "Precessing experiment 2 frame 160\n",
      "Precessing experiment 3 frame 70\n",
      "Precessing experiment 3 frame 80\n",
      "Precessing experiment 3 frame 90\n",
      "Precessing experiment 3 frame 100\n",
      "Precessing experiment 3 frame 110\n",
      "Precessing experiment 3 frame 120\n"
     ]
    }
   ],
   "source": [
    "# Save the aggregation spot position into a list of list of tuples\n",
    "\n",
    "def find_aggregates(imagefilename, index):\n",
    "    region   = 3\n",
    "    threshold= 7.0 / 255\n",
    "    \n",
    "    img      = ski.img_as_float(ski.io.imread(imagefilename.format(index)))\n",
    "    for k in range(1, 3):\n",
    "        img += ski.img_as_float(ski.io.imread(imagefilename.format(index + k)))\n",
    "        \n",
    "    img      = img / 3\n",
    "    square   = ski.morphology.square(region * 2 + 1)\n",
    "    \n",
    "    img_bw   = ski.morphology.h_minima(img, threshold, square)\n",
    "    \n",
    "    img_reg  = ski.measure.label(img_bw, connectivity=2)\n",
    "    reg_prop = ski.measure.regionprops(img_reg)\n",
    "\n",
    "    centroids   = [r.centroid for r in reg_prop]\n",
    "    incenter    = lambda x: np.sum((np.array(x) - 210) ** 2) < 38000\n",
    "    centroids   = list(filter(incenter, centroids))\n",
    "    \n",
    "    return centroids\n",
    "    \n",
    "    \n",
    "\n",
    "result     = []\n",
    "time_frame = [range(100, 160), range(120, 180), range(110, 170), range(63, 123)]\n",
    "\n",
    "\n",
    "for exp in range(4):\n",
    "    exp_sequence = []\n",
    "    \n",
    "    for t in time_frame[exp]:\n",
    "        if t % 10 == 0:\n",
    "            print(\"Precessing experiment {0:d} frame {1:d}\".format(exp, t))\n",
    "        \n",
    "        exp_sequence.append(find_aggregates(EXPERIMENT[exp], t))\n",
    "        \n",
    "    result.append(exp_sequence)"
   ]
  },
  {
   "cell_type": "code",
   "execution_count": 7,
   "metadata": {},
   "outputs": [],
   "source": [
    "data = {\"info\": \"The data field is a list that includes other 4 lists, one for each experiment. Each list out of this 4 contains 60 lists, one for image. Each of these 60 lists one their own contain a list of tuples with the x and y coordinates of each aggregation spot detected in that image.\", \"data\": result}\n",
    "\n",
    "with open('aggregates.json', 'w') as f:\n",
    "    json.dump(data, f, indent = 2, ensure_ascii = False)"
   ]
  },
  {
   "cell_type": "code",
   "execution_count": 8,
   "metadata": {},
   "outputs": [],
   "source": [
    "time_frame = [range(100, 160), range(120, 180), range(110, 170), range(63, 123)]\n",
    "\n",
    "Dq = []\n",
    "A  = []\n",
    "FA = []\n",
    "\n",
    "for exp in range(4):\n",
    "   \n",
    "    Exp_Dq = []\n",
    "    Exp_A  = []\n",
    "    Exp_FA = []\n",
    "    for i, idx in enumerate(time_frame[exp]):\n",
    "        a, f, dq = image_spectrum(EXPERIMENT[exp], idx)\n",
    "\n",
    "        Exp_Dq.append(dq)\n",
    "        Exp_A.append(a)\n",
    "        Exp_FA.append(f)\n",
    "        \n",
    "    \n",
    "    Dq.append(Exp_Dq)\n",
    "    A.append(Exp_A)\n",
    "    FA.append(Exp_FA)"
   ]
  },
  {
   "cell_type": "code",
   "execution_count": 9,
   "metadata": {
    "collapsed": true
   },
   "outputs": [],
   "source": [
    "def self_organization(f, a0, a):\n",
    "    return np.trapz((a0 - a) ** 2 * f, a)\n",
    "\n",
    "def emergence(dDq, a, q):\n",
    "    return np.trapz(dDq * np.abs(np.gradient(a, q[1] - q[0], edge_order=2)), q)"
   ]
  },
  {
   "cell_type": "code",
   "execution_count": 10,
   "metadata": {
    "collapsed": true
   },
   "outputs": [],
   "source": [
    "header = \"time\"\n",
    "time   = np.array(list(range(58))) / 6.0\n",
    "result = [time, ]\n",
    "df     = pd.DataFrame()\n",
    "q      = np.array(list(range(0, 11)))\n",
    "\n",
    "for exp in range(4):    \n",
    "    \n",
    "    # Compute experiment metrics\n",
    "    for i in range(58):\n",
    "        d     = pd.DataFrame({\n",
    "                     'Time': (i + 1) / 6.0, \n",
    "                     'Emergence': emergence((Dq[exp][i + 1] - Dq[exp][i])[10:], A[exp][i + 1][10:], q),\n",
    "                     'Organization': self_organization(FA[exp][i], A[exp][i][11], A[exp][i]),\n",
    "                     'Experiment': exp + 1}, [1])\n",
    "        \n",
    "        df    = df.append(d, ignore_index=True)\n",
    "        \n",
    "    # Export metrics\n",
    "    dfe     = df.query(\"Experiment == {0}\".format(exp + 1))\n",
    "    header += \" emergence{0:d} organization{0:d}\".format(exp + 1)\n",
    "    \n",
    "    result.append(dfe['Emergence'])\n",
    "    result.append(dfe['Organization'])\n",
    "    \n",
    "\n",
    "np.savetxt(\"metrics.txt\", np.vstack(result).T, fmt = '%0.5f', header = header)"
   ]
  },
  {
   "cell_type": "code",
   "execution_count": 11,
   "metadata": {},
   "outputs": [
    {
     "data": {
      "text/plain": [
       "<matplotlib.axes._subplots.AxesSubplot at 0x1184daef0>"
      ]
     },
     "execution_count": 11,
     "metadata": {},
     "output_type": "execute_result"
    },
    {
     "data": {
      "image/png": "[encoded data removed]",
      "text/plain": [
       "<Figure size 432x288 with 1 Axes>"
      ]
     },
     "metadata": {
      "needs_background": "light"
     },
     "output_type": "display_data"
    }
   ],
   "source": [
    "df.query(\"Experiment == 4\").plot(x=\"Time\", y=\"Organization\")"
   ]
  },
  {
   "cell_type": "code",
   "execution_count": 12,
   "metadata": {},
   "outputs": [
    {
     "name": "stderr",
     "output_type": "stream",
     "text": [
      "/Users/valeriu/Software/Miniconda3/envs/bacteria-emergence/lib/python3.7/site-packages/seaborn/regression.py:279: RuntimeWarning: invalid value encountered in log\n",
      "  grid = np.c_[np.ones(len(grid)), np.log(grid)]\n"
     ]
    },
    {
     "data": {
      "image/png": "[encoded data removed]",
      "text/plain": [
       "<Figure size 408.04x360 with 1 Axes>"
      ]
     },
     "metadata": {
      "needs_background": "light"
     },
     "output_type": "display_data"
    }
   ],
   "source": [
    "ax = sns.lmplot(x='Time', y='Organization', data=dfe, hue='Experiment', logx=True,  palette=\"Set2\")"
   ]
  },
  {
   "cell_type": "code",
   "execution_count": 13,
   "metadata": {},
   "outputs": [
    {
     "data": {
      "image/png": "[encoded data removed]",
      "text/plain": [
       "<Figure size 408.04x360 with 1 Axes>"
      ]
     },
     "metadata": {
      "needs_background": "light"
     },
     "output_type": "display_data"
    }
   ],
   "source": [
    "ax = sns.lmplot(x='Time', y='Emergence', data=dfe, hue='Experiment', order=1,  palette=\"Set2\")"
   ]
  },
  {
   "cell_type": "code",
   "execution_count": null,
   "metadata": {},
   "outputs": [],
   "source": []
  }
 ],
 "metadata": {
  "kernelspec": {
   "display_name": "Python 3",
   "language": "python",
   "name": "python3"
  },
  "language_info": {
   "codemirror_mode": {
    "name": "ipython",
    "version": 3
   },
   "file_extension": ".py",
   "mimetype": "text/x-python",
   "name": "python",
   "nbconvert_exporter": "python",
   "pygments_lexer": "ipython3",
   "version": "3.7.1"
  }
 },
 "nbformat": 4,
 "nbformat_minor": 2
}
